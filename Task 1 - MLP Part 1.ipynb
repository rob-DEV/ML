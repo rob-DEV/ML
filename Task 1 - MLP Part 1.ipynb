{
 "cells": [
  {
   "cell_type": "markdown",
   "metadata": {},
   "source": [
    "## Task 1 MLP Part 1 - Word2Vec Approach"
   ]
  },
  {
   "cell_type": "code",
   "execution_count": 2,
   "metadata": {},
   "outputs": [],
   "source": [
    "import pandas as pd\n",
    "import numpy as np\n",
    "\n",
    "# Function to load the training and test datasets\n",
    "# Returns data in the format x_train, y_train, x_test, y_test\n",
    "def load_dataset():\n",
    "    train_df = pd.read_csv('traindrug.csv')\n",
    "    test_df = pd.read_csv('testdrug.csv')\n",
    "\n",
    "    x_train = train_df.values[:, 0]\n",
    "    y_train = train_df.values[:, 1].astype(np.int32)\n",
    "\n",
    "    x_test = test_df.values[:, 0]\n",
    "    y_test = test_df.values[:, 1].astype(np.int32)\n",
    "\n",
    "    return x_train, y_train, x_test, y_test"
   ]
  },
  {
   "cell_type": "code",
   "execution_count": 3,
   "metadata": {},
   "outputs": [
    {
     "name": "stdout",
     "output_type": "stream",
     "text": [
      "Length: x_train: 1000\n",
      "Length: y_train: 1000\n",
      "Length: x_test: 500\n",
      "Length: y_test: 500\n"
     ]
    }
   ],
   "source": [
    "x_train, y_train, x_test, y_test = load_dataset()\n",
    "\n",
    "# Confirming expected data sizes\n",
    "print(\"Length: x_train:\", len(x_train))\n",
    "print(\"Length: y_train:\", len(y_train))\n",
    "print(\"Length: x_test:\", len(x_test))\n",
    "print(\"Length: y_test:\", len(y_test))\n",
    "\n",
    "assert len(x_train) == 1000\n",
    "assert len(y_train) == 1000\n",
    "assert len(x_test) == 500\n",
    "assert len(y_test) == 500"
   ]
  },
  {
   "cell_type": "code",
   "execution_count": 4,
   "metadata": {},
   "outputs": [
    {
     "name": "stdout",
     "output_type": "stream",
     "text": [
      "(1000, 300)\n",
      "(500, 300)\n"
     ]
    }
   ],
   "source": [
    "# Imports for converting data to embedded vectors\n",
    "import re\n",
    "from gensim.models import KeyedVectors\n",
    "\n",
    "# Convert to vector\n",
    "# Load the word vectors\n",
    "filevec = 'GoogleNews-vectors-negative300.bin'\n",
    "word2vec = KeyedVectors.load_word2vec_format(filevec, binary=True, limit=50000)\n",
    "word2vec_vectors = word2vec\n",
    "\n",
    "def text2Vec(list):\n",
    "    vectors = []\n",
    "    for row in list:\n",
    "        tokens = [w.lower() for w in re.sub(r'[^\\w\\s]','',row).split(' ')]\n",
    "        temp = []\n",
    "        for token in tokens:\n",
    "            if token in word2vec_vectors:\n",
    "                temp.append(word2vec[token])\n",
    "        vectors.append(np.mean(temp, axis=0))\n",
    "    return np.asarray(vectors)\n",
    "\n",
    "# Convert x_train and x_test to embedded vectors\n",
    "x_train_vector = text2Vec(x_train)\n",
    "x_test_vector = text2Vec(x_test)     \n",
    "\n",
    "# Print the shape should correspond to a 300 vector array of length of x_...\n",
    "print(x_train_vector.shape)\n",
    "print(x_test_vector.shape)\n"
   ]
  },
  {
   "cell_type": "code",
   "execution_count": 20,
   "metadata": {},
   "outputs": [
    {
     "name": "stdout",
     "output_type": "stream",
     "text": [
      "16/16 [==============================] - 0s 762us/step - loss: 0.2936 - accuracy: 0.5640\n",
      "Final accuracy on test: 0.5640000104904175\n",
      "Final loss on test:  0.2935892641544342\n"
     ]
    },
    {
     "data": {
      "image/png": "[encoded data removed]",
      "text/plain": [
       "<Figure size 720x360 with 1 Axes>"
      ]
     },
     "metadata": {
      "needs_background": "light"
     },
     "output_type": "display_data"
    }
   ],
   "source": [
    "# Keras and tf imports\n",
    "from keras.models import Sequential\n",
    "from keras.layers import Dense\n",
    "from tensorflow.keras.optimizers import Adam\n",
    "from tensorflow.keras.utils import to_categorical\n",
    "\n",
    "# Define a model\n",
    "# Using softmax as the problem is multiclass and softmax should porvide a probability distribution\n",
    "mlp_model = Sequential()\n",
    "mlp_model.add(Dense(50, input_dim = 300, activation='relu', kernel_initializer='random_uniform', bias_initializer='zeros'))\n",
    "mlp_model.add(Dense(3, activation='softmax', kernel_initializer='random_uniform', bias_initializer='zeros'))\n",
    "\n",
    "opt = Adam(learning_rate=0.04)\n",
    "\n",
    "mlp_model.compile(optimizer=opt, loss='mean_absolute_error', metrics=['accuracy'])\n",
    "\n",
    "# As the output is softmax the label must be encoded to a 1x3 matrix\n",
    "# Subtract 1 for the labels to get them as an array starting from class 0\n",
    "y_train_cat = to_categorical(y_train - 1)\n",
    "y_test_cat = to_categorical(y_test - 1)\n",
    "\n",
    "# Run the model against the computed vectors\n",
    "epochs = 50\n",
    "history = mlp_model.fit(x_train_vector, y_train_cat, epochs=epochs, batch_size=x_train_vector.shape[0], verbose=0, validation_data=(x_test_vector, y_test_cat))\n",
    "\n",
    "final_loss, final_acc = mlp_model.evaluate(x_test_vector, y_test_cat)\n",
    "print(\"Final accuracy on test: {}\".format(final_acc))\n",
    "print('Final loss on test: ', final_loss)\n",
    "\n",
    "# Evaluation of softmax approach\n",
    "import matplotlib.pyplot as plt \n",
    "plt.rcParams['figure.figsize'] = [10, 5]\n",
    "plt.plot(range(epochs), history.history['loss'], label='loss')\n",
    "plt.plot(range(epochs), history.history['val_loss'], label='val_loss')\n",
    "plt.title(\"Loss\")\n",
    "plt.xlabel(\"Epochs\")\n",
    "plt.ylabel(\"Mean Absolute Error\")\n",
    "plt.legend()\n",
    "\n",
    "plt.show()\n"
   ]
  }
 ],
 "metadata": {
  "interpreter": {
   "hash": "1f1d868c5ebeba30b699d07380689299e968a0c4beaa8abc7acec2d368d3dd67"
  },
  "kernelspec": {
   "display_name": "Python 3.9.9 64-bit",
   "language": "python",
   "name": "python3"
  },
  "language_info": {
   "codemirror_mode": {
    "name": "ipython",
    "version": 3
   },
   "file_extension": ".py",
   "mimetype": "text/x-python",
   "name": "python",
   "nbconvert_exporter": "python",
   "pygments_lexer": "ipython3",
   "version": "3.9.9"
  },
  "orig_nbformat": 4
 },
 "nbformat": 4,
 "nbformat_minor": 2
}
