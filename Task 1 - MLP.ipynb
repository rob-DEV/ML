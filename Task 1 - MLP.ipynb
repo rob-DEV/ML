{
 "cells": [
  {
   "cell_type": "markdown",
   "metadata": {},
   "source": [
    "## Task 1 MLP - Word2Vec"
   ]
  },
  {
   "cell_type": "code",
   "execution_count": 2,
   "metadata": {},
   "outputs": [],
   "source": [
    "import pandas as pd\n",
    "\n",
    "# Function to load the training and test datasets\n",
    "# Returns data in the format x_train, y_train, x_test, y_test\n",
    "def load_dataset():\n",
    "    train_df = pd.read_csv('traindrug.csv')\n",
    "    test_df = pd.read_csv('testdrug.csv')\n",
    "\n",
    "    x_train = train_df.values[:, 0]\n",
    "    y_train = train_df.values[:, 1]    \n",
    "\n",
    "    x_test = test_df.values[:, 0]\n",
    "    y_test = test_df.values[:, 1]\n",
    "\n",
    "    return x_train, y_train, x_test, y_test"
   ]
  },
  {
   "cell_type": "code",
   "execution_count": 3,
   "metadata": {},
   "outputs": [
    {
     "name": "stdout",
     "output_type": "stream",
     "text": [
      "Length: x_train: 1000\n",
      "Length: y_train: 1000\n",
      "Length: x_test: 500\n",
      "Length: y_test: 500\n"
     ]
    }
   ],
   "source": [
    "x_train, y_train, x_test, y_test = load_dataset()\n",
    "\n",
    "# Confirming expected data sizes\n",
    "print(\"Length: x_train:\", len(x_train))\n",
    "print(\"Length: y_train:\", len(y_train))\n",
    "print(\"Length: x_test:\", len(x_test))\n",
    "print(\"Length: y_test:\", len(y_test))\n",
    "\n",
    "assert len(x_train) == 1000\n",
    "assert len(y_train) == 1000\n",
    "assert len(x_test) == 500\n",
    "assert len(y_test) == 500"
   ]
  },
  {
   "cell_type": "code",
   "execution_count": 6,
   "metadata": {},
   "outputs": [
    {
     "name": "stdout",
     "output_type": "stream",
     "text": [
      "(1000, 300)\n",
      "(500, 300)\n"
     ]
    }
   ],
   "source": [
    "# Imports for converting data to embedded vectors\n",
    "import numpy as np\n",
    "import re\n",
    "import gensim\n",
    "from gensim.models import KeyedVectors\n",
    "\n",
    "# Convert to vector\n",
    "# Load the word vectors\n",
    "filevec = 'GoogleNews-vectors-negative300.bin'\n",
    "word2vec = KeyedVectors.load_word2vec_format(filevec, binary=True, limit=50000)\n",
    "word2vec_vectors = word2vec\n",
    "\n",
    "def text2Vec(list):\n",
    "    vectors = []\n",
    "    for row in list:\n",
    "        tokens = [w.lower() for w in re.sub(r'[^\\w\\s]','',row).split(' ')]\n",
    "        temp = []\n",
    "        for token in tokens:\n",
    "            if token in word2vec_vectors:\n",
    "                temp.append(word2vec[token])\n",
    "        vectors.append(np.mean(temp, axis=0))\n",
    "    return np.asarray(vectors)\n",
    "\n",
    "# Convert x_train and x_test to embedded vectors\n",
    "x_train_vector = text2Vec(x_train)\n",
    "y_train_vector = text2Vec(x_test)     \n",
    "\n",
    "# Print the shape should correspond to a 300 vector array of length of x_...\n",
    "print(x_train_vector.shape)\n",
    "print(y_train_vector.shape)\n"
   ]
  },
  {
   "cell_type": "markdown",
   "metadata": {},
   "source": []
  }
 ],
 "metadata": {
  "interpreter": {
   "hash": "1f1d868c5ebeba30b699d07380689299e968a0c4beaa8abc7acec2d368d3dd67"
  },
  "kernelspec": {
   "display_name": "Python 3.9.9 64-bit",
   "language": "python",
   "name": "python3"
  },
  "language_info": {
   "codemirror_mode": {
    "name": "ipython",
    "version": 3
   },
   "file_extension": ".py",
   "mimetype": "text/x-python",
   "name": "python",
   "nbconvert_exporter": "python",
   "pygments_lexer": "ipython3",
   "version": "3.9.9"
  },
  "orig_nbformat": 4
 },
 "nbformat": 4,
 "nbformat_minor": 2
}
