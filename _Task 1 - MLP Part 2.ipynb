{
 "cells": [
  {
   "cell_type": "markdown",
   "metadata": {},
   "source": [
    "## Task 1 MLP Part 2 - Tokenizered Words and Embedding Approach"
   ]
  },
  {
   "cell_type": "code",
   "execution_count": 1,
   "metadata": {},
   "outputs": [],
   "source": [
    "# Convert glove text to word2vec format if it does'nt already exist\n",
    "from os.path import exists\n",
    "from gensim.scripts.glove2word2vec import glove2word2vec\n",
    "glove_input_file = 'glove.6B.300d.txt'\n",
    "word2vec_file = 'glove.6B.300d.txt.word2vec'\n",
    "\n",
    "if not exists(word2vec_file):\n",
    "    print(\"Creating file in glove format\")\n",
    "    glove2word2vec(glove_input_file, word2vec_file)"
   ]
  },
  {
   "cell_type": "code",
   "execution_count": 2,
   "metadata": {},
   "outputs": [],
   "source": [
    "import pandas as pd\n",
    "import numpy as np\n",
    "\n",
    "# Function to load the training and test datasets\n",
    "# Returns data in the format x_train, y_train, x_test, y_test\n",
    "def load_dataset():\n",
    "    train_df = pd.read_csv('traindrug.csv')\n",
    "    test_df = pd.read_csv('testdrug.csv')\n",
    "\n",
    "    x_train = train_df.values[:, 0]\n",
    "    y_train = train_df.values[:, 1].astype(np.int32)\n",
    "\n",
    "    x_test = test_df.values[:, 0]\n",
    "    y_test = test_df.values[:, 1].astype(np.int32)\n",
    "\n",
    "    return x_train, y_train, x_test, y_test"
   ]
  },
  {
   "cell_type": "code",
   "execution_count": 3,
   "metadata": {},
   "outputs": [
    {
     "name": "stdout",
     "output_type": "stream",
     "text": [
      "Length: x_train: 1000\n",
      "Length: y_train: 1000\n",
      "Length: x_test: 500\n",
      "Length: y_test: 500\n"
     ]
    }
   ],
   "source": [
    "x_train, y_train, x_test, y_test = load_dataset()\n",
    "\n",
    "# Confirming expected data sizes\n",
    "print(\"Length: x_train:\", len(x_train))\n",
    "print(\"Length: y_train:\", len(y_train))\n",
    "print(\"Length: x_test:\", len(x_test))\n",
    "print(\"Length: y_test:\", len(y_test))\n",
    "\n",
    "assert len(x_train) == 1000\n",
    "assert len(y_train) == 1000\n",
    "assert len(x_test) == 500\n",
    "assert len(y_test) == 500"
   ]
  },
  {
   "cell_type": "code",
   "execution_count": 4,
   "metadata": {},
   "outputs": [],
   "source": [
    "# Load word to vec glove file \n",
    "from gensim.models import KeyedVectors\n",
    "glove_vectors = KeyedVectors.load_word2vec_format(word2vec_file, binary=False)"
   ]
  },
  {
   "cell_type": "code",
   "execution_count": 5,
   "metadata": {},
   "outputs": [
    {
     "name": "stdout",
     "output_type": "stream",
     "text": [
      "Maximum words in a sentence in x_train: 310\n",
      "(1000, 310)\n"
     ]
    }
   ],
   "source": [
    "# Setup tokenizer and fit to training data\n",
    "# Imports for converting data to tokenized integers for embedding\n",
    "from keras.preprocessing.text import Tokenizer\n",
    "from keras.preprocessing.sequence import pad_sequences\n",
    "\n",
    "tokenizer = Tokenizer(num_words=50000)\n",
    "tokenizer.fit_on_texts(x_train)\n",
    "\n",
    "train_sequences = tokenizer.texts_to_sequences(x_train)\n",
    "\n",
    "number_of_words = len(tokenizer.word_index) + 1\n",
    "\n",
    "# Determine the max word count in a sample in x_train\n",
    "sentence_word_counts = []\n",
    "for x in x_train:\n",
    "    sentence_word_counts.append(len(x.split()))\n",
    "max_word_count = max(sentence_word_counts) + 10 # Adding more if max_word_count in test is larger \n",
    "print(\"Maximum words in a sentence in x_train:\", max_word_count)\n",
    "\n",
    "# Pad all sequences to the same length\n",
    "x_train_seq = pad_sequences(sequences=train_sequences, maxlen=max_word_count)\n",
    "\n",
    "# Also create and pad the sequence for test data\n",
    "test_sequences = tokenizer.texts_to_sequences(x_test)\n",
    "x_test_seq = pad_sequences(sequences=test_sequences, maxlen=max_word_count)\n",
    "\n",
    "# Lastly convert all sequences to a numpy float array\n",
    "x_train_seq = np.asarray(x_train_seq).astype(np.float32)\n",
    "x_test_seq = np.asarray(x_test_seq).astype(np.float32)\n",
    "\n",
    "print(x_train_seq.shape)"
   ]
  },
  {
   "cell_type": "code",
   "execution_count": 6,
   "metadata": {},
   "outputs": [
    {
     "name": "stdout",
     "output_type": "stream",
     "text": [
      "(5626, 300)\n",
      "True\n"
     ]
    }
   ],
   "source": [
    "# Define weight matrix for embedding and populate with glove vector at for each word\n",
    "embedded_weight_matrix = np.zeros((number_of_words, 300))\n",
    "\n",
    "for word, i in tokenizer.word_index.items():\n",
    "    if word in glove_vectors:\n",
    "        embedding_vector = glove_vectors[word]\n",
    "        embedded_weight_matrix[i] = embedding_vector\n",
    "\n",
    "# Test the matrix compare word at index 0\n",
    "print(embedded_weight_matrix.shape)\n",
    "print(np.array_equal(embedded_weight_matrix[1] ,glove_vectors['i']))"
   ]
  },
  {
   "cell_type": "code",
   "execution_count": 18,
   "metadata": {},
   "outputs": [
    {
     "name": "stdout",
     "output_type": "stream",
     "text": [
      "Final accuracy on test: 0.328000009059906\n",
      "Final loss on test:  0.7250090837478638\n"
     ]
    },
    {
     "data": {
      "image/png": "[encoded data removed]",
      "text/plain": [
       "<Figure size 720x360 with 1 Axes>"
      ]
     },
     "metadata": {
      "needs_background": "light"
     },
     "output_type": "display_data"
    }
   ],
   "source": [
    "from keras.models import Sequential\n",
    "from keras.layers import Embedding, Flatten, Dense\n",
    "from tensorflow.keras.optimizers import Adam\n",
    "\n",
    "# Define a model - not using softmax as I'm just focusing on regression and want to use error metrics\n",
    "mlp_model = Sequential()\n",
    "mlp_model.add(Embedding(input_dim=number_of_words, output_dim=300, weights=[embedded_weight_matrix], input_length=max_word_count, trainable=False))\n",
    "mlp_model.add(Flatten())\n",
    "mlp_model.add(Dense(50, activation='relu', kernel_initializer='he_uniform', bias_initializer='zeros'))\n",
    "mlp_model.add(Dense(1, kernel_initializer='he_uniform', bias_initializer='zeros'))\n",
    "\n",
    "opt = Adam(learning_rate=0.001)\n",
    "\n",
    "mlp_model.compile(optimizer=opt, loss='mean_absolute_error', metrics=['accuracy'])\n",
    "\n",
    "epochs = 200\n",
    "history = mlp_model.fit(x_train_seq, y_train, epochs=epochs, verbose=0, batch_size=32, validation_data=(x_test_seq, y_test))\n",
    "\n",
    "final_loss, final_acc = mlp_model.evaluate(x_test_seq, y_test, verbose=0)\n",
    "print(\"Final accuracy on test: {}\".format(final_acc))\n",
    "print('Final loss on test: ', final_loss)\n",
    "\n",
    "# Evaluation\n",
    "import matplotlib.pyplot as plt \n",
    "plt.rcParams['figure.figsize'] = [10, 5]\n",
    "plt.subplot(1,2,1)\n",
    "plt.plot(range(epochs), history.history['loss'], label='loss')\n",
    "plt.plot(range(epochs), history.history['val_loss'], label='val_loss')\n",
    "plt.title(\"Loss\")\n",
    "plt.xlabel(\"Epochs\")\n",
    "plt.ylabel(\"Mean Absolute Error\")\n",
    "plt.legend()\n",
    "plt.show()\n"
   ]
  }
 ],
 "metadata": {
  "interpreter": {
   "hash": "1f1d868c5ebeba30b699d07380689299e968a0c4beaa8abc7acec2d368d3dd67"
  },
  "kernelspec": {
   "display_name": "Python 3.9.9 64-bit",
   "language": "python",
   "name": "python3"
  },
  "language_info": {
   "codemirror_mode": {
    "name": "ipython",
    "version": 3
   },
   "file_extension": ".py",
   "mimetype": "text/x-python",
   "name": "python",
   "nbconvert_exporter": "python",
   "pygments_lexer": "ipython3",
   "version": "3.9.9"
  },
  "orig_nbformat": 4
 },
 "nbformat": 4,
 "nbformat_minor": 2
}
