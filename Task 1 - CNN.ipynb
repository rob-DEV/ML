{
 "cells": [
  {
   "cell_type": "markdown",
   "metadata": {},
   "source": [
    "## Task 1 CNN"
   ]
  },
  {
   "cell_type": "code",
   "execution_count": 2,
   "metadata": {},
   "outputs": [],
   "source": [
    "# Convert glove text to word2vec format if it does'nt already exist\n",
    "from os.path import exists\n",
    "from gensim.scripts.glove2word2vec import glove2word2vec\n",
    "glove_input_file = 'glove.6B.300d.txt'\n",
    "word2vec_file = 'glove.6B.300d.txt.word2vec'\n",
    "\n",
    "if not exists(word2vec_file):\n",
    "    print(\"Creating file in glove format\")\n",
    "    glove2word2vec(glove_input_file, word2vec_file)"
   ]
  },
  {
   "cell_type": "code",
   "execution_count": 3,
   "metadata": {},
   "outputs": [],
   "source": [
    "import pandas as pd\n",
    "import numpy as np\n",
    "\n",
    "# Function to load the training and test datasets\n",
    "# Returns data in the format x_train, y_train, x_test, y_test\n",
    "def load_dataset():\n",
    "    train_df = pd.read_csv('traindrug.csv')\n",
    "    test_df = pd.read_csv('testdrug.csv')\n",
    "\n",
    "    x_train = train_df.values[:, 0]\n",
    "    y_train = train_df.values[:, 1].astype(np.int32)\n",
    "\n",
    "    x_test = test_df.values[:, 0]\n",
    "    y_test = test_df.values[:, 1].astype(np.int32)\n",
    "\n",
    "    return x_train, y_train, x_test, y_test"
   ]
  },
  {
   "cell_type": "code",
   "execution_count": 4,
   "metadata": {},
   "outputs": [
    {
     "name": "stdout",
     "output_type": "stream",
     "text": [
      "Length: x_train: 1000\n",
      "Length: y_train: 1000\n",
      "Length: x_test: 500\n",
      "Length: y_test: 500\n"
     ]
    }
   ],
   "source": [
    "x_train, y_train, x_test, y_test = load_dataset()\n",
    "\n",
    "# Confirming expected data sizes\n",
    "print(\"Length: x_train:\", len(x_train))\n",
    "print(\"Length: y_train:\", len(y_train))\n",
    "print(\"Length: x_test:\", len(x_test))\n",
    "print(\"Length: y_test:\", len(y_test))\n",
    "\n",
    "assert len(x_train) == 1000\n",
    "assert len(y_train) == 1000\n",
    "assert len(x_test) == 500\n",
    "assert len(y_test) == 500"
   ]
  },
  {
   "cell_type": "code",
   "execution_count": 5,
   "metadata": {},
   "outputs": [],
   "source": [
    "# Load word to vec glove file \n",
    "from gensim.models import KeyedVectors\n",
    "glove_vectors = KeyedVectors.load_word2vec_format(word2vec_file, binary=False)"
   ]
  },
  {
   "cell_type": "code",
   "execution_count": 6,
   "metadata": {},
   "outputs": [
    {
     "name": "stdout",
     "output_type": "stream",
     "text": [
      "Maximum words in a sentence in x_train: 310\n",
      "(1000, 310)\n"
     ]
    }
   ],
   "source": [
    "# Setup tokenizer and fit to training data\n",
    "#  Imports for converting data to tokenized integers for embedding\n",
    "from keras.preprocessing.text import Tokenizer\n",
    "from keras.preprocessing.sequence import pad_sequences\n",
    "\n",
    "tokenizer = Tokenizer(num_words=50000)\n",
    "tokenizer.fit_on_texts(x_train)\n",
    "\n",
    "train_sequences = tokenizer.texts_to_sequences(x_train)\n",
    "\n",
    "number_of_words = len(tokenizer.word_index) + 1\n",
    "\n",
    "# Determine the max word count in a sample in x_train\n",
    "sentence_word_counts = []\n",
    "for x in x_train:\n",
    "    sentence_word_counts.append(len(x.split()))\n",
    "max_word_count = max(sentence_word_counts) + 10 # Adding more if max_word_count in test is larger \n",
    "print(\"Maximum words in a sentence in x_train:\", max_word_count)\n",
    "\n",
    "# Pad all sequences to the same length\n",
    "x_train_seq = pad_sequences(sequences=train_sequences, maxlen=max_word_count)\n",
    "\n",
    "# Also create and pad the sequence for test data\n",
    "test_sequences = tokenizer.texts_to_sequences(x_test)\n",
    "x_test_seq = pad_sequences(sequences=test_sequences, maxlen=max_word_count)\n",
    "\n",
    "# Lastly convert all sequences to a numpy float array\n",
    "x_train_seq = np.asarray(x_train_seq).astype(np.float32)\n",
    "x_test_seq = np.asarray(x_test_seq).astype(np.float32)\n",
    "\n",
    "print(x_train_seq.shape)"
   ]
  },
  {
   "cell_type": "code",
   "execution_count": 7,
   "metadata": {},
   "outputs": [
    {
     "name": "stdout",
     "output_type": "stream",
     "text": [
      "(5626, 300)\n",
      "True\n"
     ]
    }
   ],
   "source": [
    "# Define weight matrix for embedding and populate with glove vector at for each word\n",
    "embedded_weight_matrix = np.zeros((number_of_words, 300))\n",
    "\n",
    "for word, i in tokenizer.word_index.items():\n",
    "    if word in glove_vectors:\n",
    "        embedding_vector = glove_vectors[word]\n",
    "        embedded_weight_matrix[i] = embedding_vector\n",
    "\n",
    "# Test the matrix compare word at index 0\n",
    "print(embedded_weight_matrix.shape)\n",
    "print(np.array_equal(embedded_weight_matrix[1] ,glove_vectors['i']))"
   ]
  },
  {
   "cell_type": "code",
   "execution_count": 15,
   "metadata": {},
   "outputs": [
    {
     "name": "stdout",
     "output_type": "stream",
     "text": [
      "Epoch 1/40\n",
      "32/32 [==============================] - 3s 88ms/step - loss: 0.4528 - accuracy: 0.3140 - val_loss: 0.4410 - val_accuracy: 0.3280\n",
      "Epoch 2/40\n",
      "32/32 [==============================] - 3s 91ms/step - loss: 0.4341 - accuracy: 0.3420 - val_loss: 0.4280 - val_accuracy: 0.3680\n",
      "Epoch 3/40\n",
      "32/32 [==============================] - 3s 92ms/step - loss: 0.3995 - accuracy: 0.4450 - val_loss: 0.4082 - val_accuracy: 0.4620\n",
      "Epoch 4/40\n",
      "32/32 [==============================] - 3s 89ms/step - loss: 0.3105 - accuracy: 0.6980 - val_loss: 0.3745 - val_accuracy: 0.4820\n",
      "Epoch 5/40\n",
      "32/32 [==============================] - 3s 86ms/step - loss: 0.1987 - accuracy: 0.8300 - val_loss: 0.3365 - val_accuracy: 0.5280\n",
      "Epoch 6/40\n",
      "32/32 [==============================] - 3s 86ms/step - loss: 0.1237 - accuracy: 0.9030 - val_loss: 0.3172 - val_accuracy: 0.5780\n",
      "Epoch 7/40\n",
      "32/32 [==============================] - 3s 87ms/step - loss: 0.0579 - accuracy: 0.9670 - val_loss: 0.3049 - val_accuracy: 0.5980\n",
      "Epoch 8/40\n",
      "32/32 [==============================] - 3s 107ms/step - loss: 0.0288 - accuracy: 0.9840 - val_loss: 0.2977 - val_accuracy: 0.5900\n",
      "Epoch 9/40\n",
      "32/32 [==============================] - 3s 108ms/step - loss: 0.0153 - accuracy: 0.9900 - val_loss: 0.2916 - val_accuracy: 0.6060\n",
      "Epoch 10/40\n",
      "32/32 [==============================] - 3s 105ms/step - loss: 0.0104 - accuracy: 0.9930 - val_loss: 0.2899 - val_accuracy: 0.6040\n",
      "Epoch 11/40\n",
      "32/32 [==============================] - 3s 105ms/step - loss: 0.0079 - accuracy: 0.9930 - val_loss: 0.2860 - val_accuracy: 0.6020\n",
      "Epoch 12/40\n",
      "32/32 [==============================] - 3s 105ms/step - loss: 0.0068 - accuracy: 0.9930 - val_loss: 0.2823 - val_accuracy: 0.6040\n",
      "Epoch 13/40\n",
      "32/32 [==============================] - 3s 103ms/step - loss: 0.0053 - accuracy: 0.9950 - val_loss: 0.2859 - val_accuracy: 0.6020\n",
      "Epoch 14/40\n",
      "32/32 [==============================] - 3s 107ms/step - loss: 0.0039 - accuracy: 0.9970 - val_loss: 0.2847 - val_accuracy: 0.6180\n",
      "Epoch 15/40\n",
      "32/32 [==============================] - 3s 104ms/step - loss: 0.0036 - accuracy: 0.9990 - val_loss: 0.2877 - val_accuracy: 0.6120\n",
      "Epoch 16/40\n",
      "32/32 [==============================] - 3s 106ms/step - loss: 0.0019 - accuracy: 1.0000 - val_loss: 0.2813 - val_accuracy: 0.6120\n",
      "Epoch 17/40\n",
      "32/32 [==============================] - 3s 105ms/step - loss: 0.0012 - accuracy: 1.0000 - val_loss: 0.2805 - val_accuracy: 0.6120\n",
      "Epoch 18/40\n",
      "32/32 [==============================] - 3s 107ms/step - loss: 8.5377e-04 - accuracy: 1.0000 - val_loss: 0.2782 - val_accuracy: 0.6120\n",
      "Epoch 19/40\n",
      "32/32 [==============================] - 3s 105ms/step - loss: 7.2121e-04 - accuracy: 1.0000 - val_loss: 0.2769 - val_accuracy: 0.6140\n",
      "Epoch 20/40\n",
      "32/32 [==============================] - 3s 104ms/step - loss: 6.1202e-04 - accuracy: 1.0000 - val_loss: 0.2766 - val_accuracy: 0.6220\n",
      "Epoch 21/40\n",
      "32/32 [==============================] - 3s 105ms/step - loss: 5.2801e-04 - accuracy: 1.0000 - val_loss: 0.2766 - val_accuracy: 0.6240\n",
      "Epoch 22/40\n",
      "32/32 [==============================] - 3s 104ms/step - loss: 4.6401e-04 - accuracy: 1.0000 - val_loss: 0.2762 - val_accuracy: 0.6200\n",
      "Epoch 23/40\n",
      "32/32 [==============================] - 3s 104ms/step - loss: 4.0639e-04 - accuracy: 1.0000 - val_loss: 0.2760 - val_accuracy: 0.6240\n",
      "Epoch 24/40\n",
      "32/32 [==============================] - 3s 103ms/step - loss: 3.6296e-04 - accuracy: 1.0000 - val_loss: 0.2748 - val_accuracy: 0.6180\n",
      "Epoch 25/40\n",
      "32/32 [==============================] - 3s 104ms/step - loss: 3.2196e-04 - accuracy: 1.0000 - val_loss: 0.2748 - val_accuracy: 0.6200\n",
      "Epoch 26/40\n",
      "32/32 [==============================] - 3s 106ms/step - loss: 2.9226e-04 - accuracy: 1.0000 - val_loss: 0.2746 - val_accuracy: 0.6200\n",
      "Epoch 27/40\n",
      "32/32 [==============================] - 3s 105ms/step - loss: 2.5769e-04 - accuracy: 1.0000 - val_loss: 0.2743 - val_accuracy: 0.6180\n",
      "Epoch 28/40\n",
      "32/32 [==============================] - 3s 104ms/step - loss: 2.2596e-04 - accuracy: 1.0000 - val_loss: 0.2735 - val_accuracy: 0.6160\n",
      "Epoch 29/40\n",
      "32/32 [==============================] - 3s 104ms/step - loss: 1.9521e-04 - accuracy: 1.0000 - val_loss: 0.2739 - val_accuracy: 0.6160\n",
      "Epoch 30/40\n",
      "32/32 [==============================] - 3s 108ms/step - loss: 1.6792e-04 - accuracy: 1.0000 - val_loss: 0.2728 - val_accuracy: 0.6140\n",
      "Epoch 31/40\n",
      "32/32 [==============================] - 3s 105ms/step - loss: 1.4381e-04 - accuracy: 1.0000 - val_loss: 0.2727 - val_accuracy: 0.6260\n",
      "Epoch 32/40\n",
      "32/32 [==============================] - 3s 104ms/step - loss: 1.2345e-04 - accuracy: 1.0000 - val_loss: 0.2723 - val_accuracy: 0.6200\n",
      "Epoch 33/40\n",
      "32/32 [==============================] - 3s 107ms/step - loss: 1.0765e-04 - accuracy: 1.0000 - val_loss: 0.2721 - val_accuracy: 0.6160\n",
      "Epoch 34/40\n",
      "32/32 [==============================] - 3s 105ms/step - loss: 9.2715e-05 - accuracy: 1.0000 - val_loss: 0.2720 - val_accuracy: 0.6220\n",
      "Epoch 35/40\n",
      "32/32 [==============================] - 3s 105ms/step - loss: 8.1762e-05 - accuracy: 1.0000 - val_loss: 0.2716 - val_accuracy: 0.6200\n",
      "Epoch 36/40\n",
      "32/32 [==============================] - 3s 107ms/step - loss: 7.2522e-05 - accuracy: 1.0000 - val_loss: 0.2716 - val_accuracy: 0.6180\n",
      "Epoch 37/40\n",
      "32/32 [==============================] - 3s 103ms/step - loss: 6.4827e-05 - accuracy: 1.0000 - val_loss: 0.2715 - val_accuracy: 0.6160\n",
      "Epoch 38/40\n",
      "32/32 [==============================] - 3s 104ms/step - loss: 5.8483e-05 - accuracy: 1.0000 - val_loss: 0.2711 - val_accuracy: 0.6160\n",
      "Epoch 39/40\n",
      "32/32 [==============================] - 3s 103ms/step - loss: 5.2844e-05 - accuracy: 1.0000 - val_loss: 0.2712 - val_accuracy: 0.6220\n",
      "Epoch 40/40\n",
      "32/32 [==============================] - 3s 102ms/step - loss: 4.8108e-05 - accuracy: 1.0000 - val_loss: 0.2708 - val_accuracy: 0.6160\n",
      "16/16 [==============================] - 1s 35ms/step - loss: 0.2708 - accuracy: 0.6160\n",
      "Final accuracy on test: 0.6159999966621399\n",
      "Final loss on test:  0.27080678939819336\n"
     ]
    },
    {
     "data": {
      "image/png": "[encoded data removed]",
      "text/plain": [
       "<Figure size 720x360 with 1 Axes>"
      ]
     },
     "metadata": {
      "needs_background": "light"
     },
     "output_type": "display_data"
    }
   ],
   "source": [
    "from keras.models import Sequential\n",
    "from keras.layers import Embedding, Flatten, Dense, Conv1D, MaxPooling1D, GlobalMaxPooling1D\n",
    "from tensorflow.keras.utils import to_categorical\n",
    "from tensorflow.keras.optimizers import Adam\n",
    "\n",
    "# Define a model\n",
    "cnn_model = Sequential()\n",
    "cnn_model.add(Embedding(input_dim=number_of_words, output_dim=300, weights=[embedded_weight_matrix], input_length=max_word_count, trainable=False))\n",
    "cnn_model.add(Conv1D(filters=400, kernel_size=2, padding='valid', activation='relu', strides=1))\n",
    "cnn_model.add(GlobalMaxPooling1D())\n",
    "cnn_model.add(Dense(300, activation='relu'))\n",
    "cnn_model.add(Dense(3, activation='softmax', kernel_initializer='random_uniform', bias_initializer='zeros'))\n",
    "\n",
    "opt = Adam(learning_rate=0.0005)\n",
    "\n",
    "cnn_model.compile(optimizer=opt, loss='mean_absolute_error', metrics=['accuracy'])\n",
    "\n",
    "# As the output is softmax the label must be encoded to a 1x3 matrix\n",
    "# Subtract 1 for the labels to get them as an array starting from class 0\n",
    "y_train_cat = to_categorical(y_train - 1)\n",
    "y_test_cat = to_categorical(y_test - 1)\n",
    "\n",
    "# Run the model against the computed vectors\n",
    "epochs = 40\n",
    "history = cnn_model.fit(x_train_seq, y_train_cat, epochs=epochs, verbose=1, validation_data=(x_test_seq, y_test_cat))\n",
    "\n",
    "final_loss, final_acc = cnn_model.evaluate(x_test_seq, y_test_cat)\n",
    "print(\"Final accuracy on test: {}\".format(final_acc))\n",
    "print('Final loss on test: ', final_loss)\n",
    "\n",
    "# Evaluation of softmax approach\n",
    "import matplotlib.pyplot as plt \n",
    "plt.rcParams['figure.figsize'] = [10, 5]\n",
    "plt.subplot(1,2,1)\n",
    "plt.plot(range(epochs), history.history['loss'], label='loss')\n",
    "plt.plot(range(epochs), history.history['val_loss'], label='val_loss')\n",
    "plt.title(\"Loss\")\n",
    "plt.xlabel(\"Epochs\")\n",
    "plt.ylabel(\"Mean Absolute Error\")\n",
    "plt.legend()\n",
    "plt.show()\n"
   ]
  }
 ],
 "metadata": {
  "interpreter": {
   "hash": "1f1d868c5ebeba30b699d07380689299e968a0c4beaa8abc7acec2d368d3dd67"
  },
  "kernelspec": {
   "display_name": "Python 3.9.9 64-bit",
   "language": "python",
   "name": "python3"
  },
  "language_info": {
   "codemirror_mode": {
    "name": "ipython",
    "version": 3
   },
   "file_extension": ".py",
   "mimetype": "text/x-python",
   "name": "python",
   "nbconvert_exporter": "python",
   "pygments_lexer": "ipython3",
   "version": "3.9.9"
  },
  "orig_nbformat": 4
 },
 "nbformat": 4,
 "nbformat_minor": 2
}
